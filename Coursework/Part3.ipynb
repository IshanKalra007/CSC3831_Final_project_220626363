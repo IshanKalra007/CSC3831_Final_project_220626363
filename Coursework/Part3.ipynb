{
 "cells": [
  {
   "cell_type": "code",
   "execution_count": 1,
   "metadata": {
    "collapsed": true
   },
   "outputs": [],
   "source": [
    "import torch\n",
    "import torch.nn as nn\n",
    "import torch.optim as optim\n",
    "from torchvision import datasets, transforms\n",
    "from torch.utils.data import dataloader\n",
    "import matplotlib.pyplot as plt\n",
    "import numpy as np\n"
   ]
  },
  {
   "cell_type": "code",
   "execution_count": 2,
   "outputs": [
    {
     "ename": "SyntaxError",
     "evalue": "invalid syntax (526862268.py, line 13)",
     "output_type": "error",
     "traceback": [
      "\u001B[1;36m  Cell \u001B[1;32mIn[2], line 13\u001B[1;36m\u001B[0m\n\u001B[1;33m    train_loader = Dataloader(train_)dataset, batch_size=batch_size,shuffle=True)\u001B[0m\n\u001B[1;37m                                     ^\u001B[0m\n\u001B[1;31mSyntaxError\u001B[0m\u001B[1;31m:\u001B[0m invalid syntax\n"
     ]
    }
   ],
   "source": [
    "# Preparing the CIFAR-10 Dataset\n",
    "\n",
    "transform = transforms.Compose([transforms.ToTensor(),\n",
    "                                transforms.Normalize((0.5,0.5,0.5),(0.5,0.5,0.5))\n",
    "                                ])\n",
    "\n",
    "# Loading the datasset\n",
    "train_dataset = datasets.CIFAR10(root='./data', train=True,download=True, transform = transform)\n",
    "val_dataset = datasets.CIFAR10(root='./data', train=False, download = True, transform=transform)\n",
    "\n",
    "# Dataloader\n",
    "batch_size = 64\n",
    "train_loader = Dataloader(train_)dataset, batch_size=batch_size,shuffle=True)\n",
    "val_loader = Dataloader(val_dataset, batch_size=batch_size, shuffle=False)"
   ],
   "metadata": {
    "collapsed": false
   }
  },
  {
   "cell_type": "code",
   "execution_count": null,
   "outputs": [],
   "source": [],
   "metadata": {
    "collapsed": false
   }
  }
 ],
 "metadata": {
  "kernelspec": {
   "display_name": "Python 3",
   "language": "python",
   "name": "python3"
  },
  "language_info": {
   "codemirror_mode": {
    "name": "ipython",
    "version": 2
   },
   "file_extension": ".py",
   "mimetype": "text/x-python",
   "name": "python",
   "nbconvert_exporter": "python",
   "pygments_lexer": "ipython2",
   "version": "2.7.6"
  }
 },
 "nbformat": 4,
 "nbformat_minor": 0
}
